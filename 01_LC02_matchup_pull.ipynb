{
 "cells": [
  {
   "cell_type": "markdown",
   "metadata": {},
   "source": [
    "# Summary\n",
    "\n",
    "This file has been taken from various versions of the GEE_pull_functions files that have been used to pull surface reflectance from Landsat Collection 1 over rivers, lakes, wqp matchups, etc. It has been modified to run with Landsat Collcetion 2, based on changes with collection 2 data such as: \n",
    "\n",
    "* Bit mask information (i.e. bit numbers) \n",
    "* Scaling parameters for optical bands \n",
    "* Band names \n",
    "* Thresholds (inputs, rather) for the DSWE function\n"
   ]
  },
  {
   "cell_type": "code",
   "execution_count": 1,
   "metadata": {},
   "outputs": [],
   "source": [
    "import geemap\n",
    "import time\n",
    "import os\n",
    "import time\n",
    "import ee\n",
    "import os\n",
    "import numpy as np\n",
    "import pandas"
   ]
  },
  {
   "cell_type": "code",
   "execution_count": null,
   "metadata": {},
   "outputs": [],
   "source": [
    "ee.Authenticate()"
   ]
  },
  {
   "cell_type": "code",
   "execution_count": 3,
   "metadata": {},
   "outputs": [
    {
     "data": {
      "text/html": [
       "\n",
       "            <style>\n",
       "                .geemap-dark {\n",
       "                    --jp-widgets-color: white;\n",
       "                    --jp-widgets-label-color: white;\n",
       "                    --jp-ui-font-color1: white;\n",
       "                    --jp-layout-color2: #454545;\n",
       "                    background-color: #383838;\n",
       "                }\n",
       "                    \n",
       "                .geemap-dark .jupyter-button {\n",
       "                    --jp-layout-color3: #383838;\n",
       "                }\n",
       "                \n",
       "                .geemap-colab {\n",
       "                    background-color: var(--colab-primary-surface-color, white);\n",
       "                }\n",
       "                    \n",
       "                .geemap-colab .jupyter-button {\n",
       "                    --jp-layout-color3: var(--colab-primary-surface-color, white);\n",
       "                }\n",
       "            </style>\n",
       "            "
      ],
      "text/plain": [
       "<IPython.core.display.HTML object>"
      ]
     },
     "metadata": {},
     "output_type": "display_data"
    }
   ],
   "source": [
    "ee.Initialize()"
   ]
  },
  {
   "attachments": {},
   "cell_type": "markdown",
   "metadata": {},
   "source": [
    "# Image Masking \n",
    "\n",
    "Below are the updated bit numbers within the 'QA_PIXEL' band for LS Collection 2 data.\n",
    "\n",
    "*    Bit 0: Fill\n",
    "\n",
    "*    Bit 1: Dilated Cloud\n",
    "\n",
    "*    Bit 2: Cirrus (high confidence)\n",
    "\n",
    "*    Bit 3: Cloud\n",
    "\n",
    "*    Bit 4: Cloud Shadow\n",
    "\n",
    "*    Bit 5: Snow\n",
    "\n",
    "*    Bit 6: Clear\n",
    "\n",
    "     *     0: Cloud or Dilated Cloud bits are set\n",
    "     *     1: Cloud and Dilated Cloud bits are not set\n",
    "     \n",
    "\n",
    "*    Bit 7: Water\n",
    "\n",
    "*    Bits 8-9: Cloud Confidence\n",
    "\n",
    "     *     0: None\n",
    "     *     1: Low\n",
    "     *     2: Medium\n",
    "     *     3: High\n",
    "\n",
    "*    Bits 10-11: Cloud Shadow Confidence\n",
    "\n",
    "     *     0: None\n",
    "     *     1: Low\n",
    "     *     2: Medium\n",
    "     *     3: High\n",
    "    \n",
    "* Bits 12-13: Snow/Ice Confidence\n",
    "\n",
    "     *     0: None\n",
    "     *     1: Low\n",
    "     *     2: Medium\n",
    "     *     3: High\n",
    "\n",
    "*    Bits 14-15: Cirrus Confidence\n",
    "\n",
    "     *     0: None\n",
    "     *     1: Low\n",
    "     *     2: Medium\n",
    "     *     3: High"
   ]
  },
  {
   "cell_type": "markdown",
   "metadata": {},
   "source": [
    "# Unpack\n",
    "\n",
    "The following functions 'unpack' the information stored within the QA band. "
   ]
  },
  {
   "cell_type": "code",
   "execution_count": 4,
   "metadata": {},
   "outputs": [
    {
     "data": {
      "text/html": [
       "\n",
       "            <style>\n",
       "                .geemap-dark {\n",
       "                    --jp-widgets-color: white;\n",
       "                    --jp-widgets-label-color: white;\n",
       "                    --jp-ui-font-color1: white;\n",
       "                    --jp-layout-color2: #454545;\n",
       "                    background-color: #383838;\n",
       "                }\n",
       "                    \n",
       "                .geemap-dark .jupyter-button {\n",
       "                    --jp-layout-color3: #383838;\n",
       "                }\n",
       "                \n",
       "                .geemap-colab {\n",
       "                    background-color: var(--colab-primary-surface-color, white);\n",
       "                }\n",
       "                    \n",
       "                .geemap-colab .jupyter-button {\n",
       "                    --jp-layout-color3: var(--colab-primary-surface-color, white);\n",
       "                }\n",
       "            </style>\n",
       "            "
      ],
      "text/plain": [
       "<IPython.core.display.HTML object>"
      ]
     },
     "metadata": {},
     "output_type": "display_data"
    }
   ],
   "source": [
    "\n",
    "def Unpack(bitBand, startingBit, bitWidth): #For reference, the Water bit, bit 7, would have a starting bit of 7 and a bit width of 1\n",
    "  return (ee.Image(bitBand)\\\n",
    "  .rightShift(startingBit)\\\n",
    "  .bitwiseAnd(ee.Number(2).pow(ee.Number(bitWidth)).subtract(ee.Number(1)).int()))\n",
    "\n",
    "\n",
    "def UnpackAll(bitBand, bitInfo):\n",
    "  unpackedImage = ee.Image.cat([Unpack(bitBand, bitInfo[key][0], bitInfo[key][1]).rename([key]) for key in bitInfo])\n",
    "  return unpackedImage\n",
    "\n",
    "#Clip image function\n",
    "def clipImage(image):\n",
    "  return image.clip(lakes.geometry())\n"
   ]
  },
  {
   "cell_type": "markdown",
   "metadata": {},
   "source": [
    "# Function of Mask (FMask)\n",
    "\n",
    "Fmask is used for cloud, cloudshadow, snow/ice, and water masking "
   ]
  },
  {
   "cell_type": "code",
   "execution_count": 5,
   "metadata": {},
   "outputs": [
    {
     "data": {
      "text/html": [
       "\n",
       "            <style>\n",
       "                .geemap-dark {\n",
       "                    --jp-widgets-color: white;\n",
       "                    --jp-widgets-label-color: white;\n",
       "                    --jp-ui-font-color1: white;\n",
       "                    --jp-layout-color2: #454545;\n",
       "                    background-color: #383838;\n",
       "                }\n",
       "                    \n",
       "                .geemap-dark .jupyter-button {\n",
       "                    --jp-layout-color3: #383838;\n",
       "                }\n",
       "                \n",
       "                .geemap-colab {\n",
       "                    background-color: var(--colab-primary-surface-color, white);\n",
       "                }\n",
       "                    \n",
       "                .geemap-colab .jupyter-button {\n",
       "                    --jp-layout-color3: var(--colab-primary-surface-color, white);\n",
       "                }\n",
       "            </style>\n",
       "            "
      ],
      "text/plain": [
       "<IPython.core.display.HTML object>"
      ]
     },
     "metadata": {},
     "output_type": "display_data"
    }
   ],
   "source": [
    "def AddFmask(image):\n",
    "    bitInfo = {\n",
    "    'Cloud': [3, 1],\n",
    "    'CloudShadow': [4, 1], \n",
    "    'SnowIce': [5, 1],\n",
    "    'Water': [7, 1]\n",
    "    }\n",
    "    \n",
    "    temp = UnpackAll(image.select(['pixel_qa']), bitInfo)\n",
    "    \n",
    "    fmask = (temp.select(['Water']).rename(['fmask'])\n",
    "    .where(temp.select(['SnowIce']), ee.Image(4)) #4 because we're taking SnowIce bit number (5) and subtracting 1\n",
    "    .where(temp.select(['CloudShadow']), ee.Image(3))\n",
    "    .where(temp.select(['Cloud']), ee.Image(2))\n",
    "    .mask(temp.select(['Cloud']).gte(0))) \n",
    "    #mask the fmask so that it has the same footprint as the quality (BQA) band\n",
    "    return(image.addBands(fmask))"
   ]
  },
  {
   "attachments": {},
   "cell_type": "markdown",
   "metadata": {},
   "source": [
    "# Dynamic Surface Water Extent (DSWE)\n",
    "\n",
    "These functions are for calculating DSWE. The thresholds for various tests (t1-t5), haven't necessarily changed. What's changed are the inputs. Previously, for LS Collection 1 the inputs for these functions were unscaled surface reflectance. Now, the inputs are scaled surface reflectance. \n",
    "\n",
    "Note: you have to use image expression for NDVI and MNDWI, otherwise NormalizedDifference will automatically mask out negative pixel values, of which there are alot over waterbodies. See : https://code.earthengine.google.com/d3ee10aabbd56d47ee68af5cfac1c674?as_external\n",
    "\n",
    "An addition test has been added (algal mask) to include pixels that were previously found to be masked out in cases of algal blooms / mats could be visually identified on the surface of waterbodies. \n"
   ]
  },
  {
   "cell_type": "code",
   "execution_count": 6,
   "metadata": {},
   "outputs": [
    {
     "data": {
      "text/html": [
       "\n",
       "            <style>\n",
       "                .geemap-dark {\n",
       "                    --jp-widgets-color: white;\n",
       "                    --jp-widgets-label-color: white;\n",
       "                    --jp-ui-font-color1: white;\n",
       "                    --jp-layout-color2: #454545;\n",
       "                    background-color: #383838;\n",
       "                }\n",
       "                    \n",
       "                .geemap-dark .jupyter-button {\n",
       "                    --jp-layout-color3: #383838;\n",
       "                }\n",
       "                \n",
       "                .geemap-colab {\n",
       "                    background-color: var(--colab-primary-surface-color, white);\n",
       "                }\n",
       "                    \n",
       "                .geemap-colab .jupyter-button {\n",
       "                    --jp-layout-color3: var(--colab-primary-surface-color, white);\n",
       "                }\n",
       "            </style>\n",
       "            "
      ],
      "text/plain": [
       "<IPython.core.display.HTML object>"
      ]
     },
     "metadata": {},
     "output_type": "display_data"
    }
   ],
   "source": [
    "\n",
    "# Modified Normalized Difference Water Index (MNDWI) \n",
    "def Mndwi(image): \n",
    "  return(image\n",
    "  .expression('(GREEN - SWIR1) / (GREEN + SWIR1)', {\n",
    "    'GREEN': image.select(['Green']),\n",
    "    'SWIR1': image.select(['Swir1'])\n",
    "  }))\n",
    "\n",
    "# Multi-band Spectral Relationship Visible\n",
    "def Mbsrv(image):\n",
    "  return(image.select(['Green']).add(image.select(['Red'])).rename('mbsrv'))\n",
    "\n",
    "# Multi-band Spectral Relationship Near infrared\n",
    "def Mbsrn(image):\n",
    "  return(image.select(['Nir']).add(image.select(['Swir1'])).rename('mbsrn'))\n",
    "\n",
    "# Normalized Difference Vegetation Index\n",
    "def Ndvi(image):\n",
    "  return(image\n",
    "  .expression('(NIR - RED) / (NIR + RED)', {\n",
    "    'RED': image.select(['Red']),\n",
    "    'NIR': image.select(['Nir'])\n",
    "  }))\n",
    "\n",
    "# Automated Water Extent Shadow\n",
    "def Awesh(image):\n",
    "  return(image\n",
    "  .expression('Blue + 2.5 * Green + (-1.5) * mbsrn + (-0.25) * Swir2', {\n",
    "    'Blue': image.select(['Blue']),\n",
    "    'Green': image.select(['Green']),\n",
    "    'mbsrn': Mbsrn(image).select(['mbsrn']),\n",
    "    'Swir2': image.select(['Swir2'])\n",
    "  }))\n",
    "\n",
    "def Dswe(i):\n",
    "   mndwi = Mndwi(i)\n",
    "   mbsrv = Mbsrv(i)\n",
    "   mbsrn = Mbsrn(i)\n",
    "   awesh = Awesh(i)\n",
    "   swir1 = i.select(['Swir1'])\n",
    "   nir = i.select(['Nir'])\n",
    "   ndvi = Ndvi(i)\n",
    "   blue = i.select(['Blue'])\n",
    "   swir2 = i.select(['Swir2'])\n",
    "   green = i.select(['Green'])\n",
    "   red = i.select(['Red'])\n",
    "  \n",
    "  # These thresholds are taken from the LS Collection 2 DSWE Data Format Control Book:\n",
    "  # (https://d9-wret.s3.us-west-2.amazonaws.com/assets/palladium/production/s3fs-public/media/files/LSDS-2042_LandsatC2_L3_DSWE_DFCB-v2.pdf)\n",
    "  # Inputs are meant to be scaled reflectance values \n",
    "\n",
    "   t1 = mndwi.gt(0.124) # MNDWI greater than Wetness Index Threshold\n",
    "   t2 = mbsrv.gt(mbsrn) # MBSRV greater than MBSRN\n",
    "   t3 = awesh.gt(0) #AWESH greater than 0\n",
    "   t4 = (mndwi.gt(-0.44)  #Partial Surface Water 1 thresholds\n",
    "   .And(swir1.lt(0.09)) #900 for no scaling (LS Collection 1)\n",
    "   .And(nir.lt(0.15)) #1500 for no scaling (LS Collection 1)\n",
    "   .And(ndvi.lt(0.7))) \n",
    "   t5 = (mndwi.gt(-0.5) #Partial Surface Water 2 thresholds\n",
    "   .And(blue.lt(0.1)) #1000 for no scaling (LS Collection 1)\n",
    "   .And(swir1.lt(0.3)) #3000 for no scaling (LS Collection 1)\n",
    "   .And(swir2.lt(0.1)) #1000 for no scaling (LS Collection 1)\n",
    "   .And(nir.lt(0.25))) #2500 for no scaling (LS Collection 1)\n",
    "  \n",
    "   # Add additional threshold to account for algal blooms which can get masked out \n",
    "\n",
    "   algal_mask = green.gt(0.05).And(red.lt(0.04))\n",
    "\n",
    "   t = t1.add(t2.multiply(10)).add(t3.multiply(100)).add(t4.multiply(1000)).add(t5.multiply(10000));\n",
    "\n",
    "   noWater = (t.eq(0)\n",
    "   .Or(t.eq(1))\n",
    "   .Or(t.eq(10))\n",
    "   .Or(t.eq(100))\n",
    "   .Or(t.eq(1000)))\n",
    "   hWater = (t.eq(1111)\n",
    "   .Or(t.eq(10111))\n",
    "   .Or(t.eq(11011))\n",
    "   .Or(t.eq(11101))\n",
    "   .Or(t.eq(11110))\n",
    "   .Or(t.eq(11111)))\n",
    "   mWater = (t.eq(111)\n",
    "   .Or(t.eq(1011))\n",
    "   .Or(t.eq(1101))\n",
    "   .Or(t.eq(1110))\n",
    "   .Or(t.eq(10011))\n",
    "   .Or(t.eq(10101))\n",
    "   .Or(t.eq(10110))\n",
    "   .Or(t.eq(11001))\n",
    "   .Or(t.eq(11010))\n",
    "   .Or(t.eq(11100)))\n",
    "   pWetland = t.eq(11000)\n",
    "   lWater = (t.eq(11)\n",
    "   .Or(t.eq(101))\n",
    "   .Or(t.eq(110))\n",
    "   .Or(t.eq(1001))\n",
    "   .Or(t.eq(1010))\n",
    "   .Or(t.eq(1100))\n",
    "   .Or(t.eq(10000))\n",
    "   .Or(t.eq(10001))\n",
    "   .Or(t.eq(10010))\n",
    "   .Or(t.eq(10100)))\n",
    "  \n",
    "   iDswe = (noWater.multiply(0)\n",
    "   .add(hWater.multiply(1))\n",
    "   .add(mWater.multiply(2))\n",
    "   .add(pWetland.multiply(3))\n",
    "   .add(lWater.multiply(4)))\n",
    "\n",
    "  # Reclassify the dswe values so that we combine the lower confidence dswe values together \n",
    "   dswe23 = iDswe.remap([0,1,2,3,4], [0,0,1,1,1])\n",
    "   \n",
    "   alg = algal_mask.eq(1)\n",
    "   d_algae = dswe23.updateMask(alg)\n",
    "   algae = d_algae.eq(1)\n",
    "   dswe1 = iDswe.eq(1)\n",
    "   \n",
    "   # Define pixels that are high confidence water (dswe1_threshold) and pixels that fall within our algal mask threshold (alg_selfmask)\n",
    "   alg_selfmask = algae.selfMask()\n",
    "   dswe1_selfmask = dswe1.selfMask()\n",
    "   \n",
    "   # Multiply both classes by 1 to combine into an image \n",
    "   classes = ee.Image([alg_selfmask, dswe1_selfmask]).multiply(ee.Image([1])).reduce(ee.Reducer.firstNonNull()).unmask(0)\n",
    "  \n",
    "   return i.addBands(iDswe.rename('dswe')).addBands(classes.rename('algal_mask'))"
   ]
  },
  {
   "cell_type": "markdown",
   "metadata": {},
   "source": [
    "# Hillshades and hillshadows\n",
    "\n",
    "These functions calculate hillshade and hillhshadow based on information on azimuth and zenith angles stored within a Landsat image. \n",
    "\n",
    "The names for the azimuth angle was changed from 'SOLAR_AZIMUTH' to 'SUN_AZIMUTH'. There also is no 'ZENITH' field, but a 'SUN_ELEVATION' field that you can do 90 - 'SUN_ELEVATION' to get 'SUN_ZENITH'. "
   ]
  },
  {
   "cell_type": "code",
   "execution_count": 7,
   "metadata": {},
   "outputs": [
    {
     "data": {
      "text/html": [
       "\n",
       "            <style>\n",
       "                .geemap-dark {\n",
       "                    --jp-widgets-color: white;\n",
       "                    --jp-widgets-label-color: white;\n",
       "                    --jp-ui-font-color1: white;\n",
       "                    --jp-layout-color2: #454545;\n",
       "                    background-color: #383838;\n",
       "                }\n",
       "                    \n",
       "                .geemap-dark .jupyter-button {\n",
       "                    --jp-layout-color3: #383838;\n",
       "                }\n",
       "                \n",
       "                .geemap-colab {\n",
       "                    background-color: var(--colab-primary-surface-color, white);\n",
       "                }\n",
       "                    \n",
       "                .geemap-colab .jupyter-button {\n",
       "                    --jp-layout-color3: var(--colab-primary-surface-color, white);\n",
       "                }\n",
       "            </style>\n",
       "            "
      ],
      "text/plain": [
       "<IPython.core.display.HTML object>"
      ]
     },
     "metadata": {},
     "output_type": "display_data"
    }
   ],
   "source": [
    "def CalcHillShades(image, geo):\n",
    "\n",
    "  MergedDEM = ee.Image(\"users/eeProject/MERIT\").clip(geo.buffer(300)) # Area buffered that hillshadow is calculated within \n",
    "\n",
    "  SOLAR_AZIMUTH_ANGLE = ee.Number(image.get('SUN_AZIMUTH'))\n",
    "  SOLAR_ELEVATION =ee.Number(image.get('SUN_ELEVATION'))\n",
    "  \n",
    "  hillShade = ee.Terrain.hillshade(MergedDEM, SOLAR_AZIMUTH_ANGLE,\n",
    "  SOLAR_ELEVATION).rename(['hillShade'])\n",
    "               \n",
    "  return hillShade\n",
    "  \n",
    "def CalcHillShadows(image, geo):\n",
    "  MergedDEM = ee.Image(\"users/eeProject/MERIT\").clip(geo.buffer(3000)) # Area buffered that hillshadow is calculated within \n",
    "  SOLAR_AZIMUTH_ANGLE = ee.Number(image.get('SUN_AZIMUTH'))\n",
    "  SOLAR_ZENITH_ANGLE =ee.Number(90).subtract(image.get('SUN_ELEVATION'))\n",
    "\n",
    "  hillShadow = ee.Terrain.hillShadow(MergedDEM, SOLAR_AZIMUTH_ANGLE,SOLAR_ZENITH_ANGLE, 30).rename(['hillShadow'])\n",
    "    \n",
    "  return hillShadow\n",
    "\n"
   ]
  },
  {
   "cell_type": "markdown",
   "metadata": {},
   "source": [
    "## These function do the following: \n",
    "\n",
    "* Buffer points taken from aquasat siteIDS\n",
    "\n",
    "* Remove geometry field\n",
    "\n",
    "* Add bands with negative pixel values (band value < 0), these will be used later to count the number of negative pixels within a site location \n"
   ]
  },
  {
   "cell_type": "code",
   "execution_count": 8,
   "metadata": {},
   "outputs": [
    {
     "data": {
      "text/html": [
       "\n",
       "            <style>\n",
       "                .geemap-dark {\n",
       "                    --jp-widgets-color: white;\n",
       "                    --jp-widgets-label-color: white;\n",
       "                    --jp-ui-font-color1: white;\n",
       "                    --jp-layout-color2: #454545;\n",
       "                    background-color: #383838;\n",
       "                }\n",
       "                    \n",
       "                .geemap-dark .jupyter-button {\n",
       "                    --jp-layout-color3: #383838;\n",
       "                }\n",
       "                \n",
       "                .geemap-colab {\n",
       "                    background-color: var(--colab-primary-surface-color, white);\n",
       "                }\n",
       "                    \n",
       "                .geemap-colab .jupyter-button {\n",
       "                    --jp-layout-color3: var(--colab-primary-surface-color, white);\n",
       "                }\n",
       "            </style>\n",
       "            "
      ],
      "text/plain": [
       "<IPython.core.display.HTML object>"
      ]
     },
     "metadata": {},
     "output_type": "display_data"
    }
   ],
   "source": [
    "\n",
    "## Buffer the  sites\n",
    "def pointBuff(i):\n",
    "    return i.buffer(200)\n",
    "\n",
    "def removeGeo(i):\n",
    "    return i.setGeometry(None)\n",
    "\n",
    "def add_negative_Aerosol(image):\n",
    "      \n",
    "      Aerosol = image.select('Aerosol')\n",
    "      negative_Aerosol = Aerosol.lt(0).rename('negative_Aerosol')\n",
    "  \n",
    "      return(negative_Aerosol)\n",
    "\n",
    "def add_negative_Red(image):\n",
    "\n",
    "      Red = image.select('Red')\n",
    "      negative_Red = Red.lt(0).rename('negative_Red')\n",
    "  \n",
    "      return(negative_Red)\n",
    "\n",
    "def add_negative_Blue(image):\n",
    "\n",
    "      Blue = image.select('Blue')\n",
    "      negative_Blue = Blue.lt(0).rename('negative_Blue')\n",
    "  \n",
    "      return(negative_Blue)\n",
    "\n",
    "def add_negative_Green(image):\n",
    "\n",
    "      Green = image.select('Green')\n",
    "      negative_Green = Green.lt(0).rename('negative_Green')\n",
    "  \n",
    "      return(negative_Green)\n",
    "\n",
    "\n",
    "def add_negative_Nir(image):\n",
    "\n",
    "      Nir = image.select('Nir')\n",
    "      negative_Nir = Nir.lt(0).rename('negative_Nir')\n",
    "  \n",
    "      return(negative_Nir)\n",
    "\n",
    "def add_negative_Swir1(image):\n",
    "\n",
    "      Swir1 = image.select('Swir1')\n",
    "      negative_Swir1 = Swir1.lt(0).rename('negative_Swir1')\n",
    "  \n",
    "      return(negative_Swir1)\n",
    "\n",
    "def add_negative_Swir2(image):\n",
    "\n",
    "      Swir2 = image.select('Swir2')\n",
    "      negative_Swir2 = Swir2.lt(0).rename('negative_Swir2')\n",
    "  \n",
    "      return(negative_Swir2)"
   ]
  },
  {
   "cell_type": "markdown",
   "metadata": {},
   "source": [
    "# Surface reflectance pull function\n",
    "\n",
    "* The pull function first defines variables that will be used to mask each image (i.e. clouds, hillshadows, dswe). \n",
    "\n",
    "* Then a waterOut variable is defined as the image with all of the masks applied and additional variables to be exported within our table (i.e. the DSWE / algal mask value, the cloud value, etc.)\n",
    "\n",
    "* Then the combined reducer calculates medians and standard deviations for our band values, counts negative pixel values and pixels where dswe == 1 or dswe == 3, gets mean hillshdaow and cloud values, and collects the first non null value for various image metadata properties\n",
    "\n",
    "* Then we reduce regions with the combined reducer"
   ]
  },
  {
   "cell_type": "code",
   "execution_count": 9,
   "metadata": {},
   "outputs": [
    {
     "data": {
      "text/html": [
       "\n",
       "            <style>\n",
       "                .geemap-dark {\n",
       "                    --jp-widgets-color: white;\n",
       "                    --jp-widgets-label-color: white;\n",
       "                    --jp-ui-font-color1: white;\n",
       "                    --jp-layout-color2: #454545;\n",
       "                    background-color: #383838;\n",
       "                }\n",
       "                    \n",
       "                .geemap-dark .jupyter-button {\n",
       "                    --jp-layout-color3: #383838;\n",
       "                }\n",
       "                \n",
       "                .geemap-colab {\n",
       "                    background-color: var(--colab-primary-surface-color, white);\n",
       "                }\n",
       "                    \n",
       "                .geemap-colab .jupyter-button {\n",
       "                    --jp-layout-color3: var(--colab-primary-surface-color, white);\n",
       "                }\n",
       "            </style>\n",
       "            "
      ],
      "text/plain": [
       "<IPython.core.display.HTML object>"
      ]
     },
     "metadata": {},
     "output_type": "display_data"
    }
   ],
   "source": [
    "def pull(image):\n",
    " \n",
    "    f = AddFmask(image).select('fmask')\n",
    "    clouds = f.gte(2).rename('clouds')\n",
    "    algal_mask = Dswe(image).select('algal_mask')\n",
    "    hs = CalcHillShadows(image, lakes.geometry()).select('hillShadow')\n",
    "    negative_Aerosol = add_negative_Aerosol(image).selfMask().updateMask(algal_mask.eq(1)).updateMask(clouds.eq(0)).updateMask(hs.eq(1)) \n",
    "    negative_Red = add_negative_Red(image).selfMask().updateMask(algal_mask.eq(1)).updateMask(clouds.eq(0)).updateMask(hs.eq(1)) \n",
    "    negative_Blue = add_negative_Blue(image).selfMask().updateMask(algal_mask.eq(1)).updateMask(clouds.eq(0)).updateMask(hs.eq(1)) \n",
    "    negative_Green = add_negative_Green(image).selfMask().updateMask(algal_mask.eq(1)).updateMask(clouds.eq(0)).updateMask(hs.eq(1)) \n",
    "    negative_Nir = add_negative_Nir(image).selfMask().updateMask(algal_mask.eq(1)).updateMask(clouds.eq(0)).updateMask(hs.eq(1)) \n",
    "    negative_Swir1 = add_negative_Swir1(image).selfMask().updateMask(algal_mask.eq(1)).updateMask(clouds.eq(0)).updateMask(hs.eq(1)) \n",
    "    negative_Swir2 = add_negative_Swir2(image).selfMask().updateMask(algal_mask.eq(1)).updateMask(clouds.eq(0)).updateMask(hs.eq(1)) \n",
    "    dummy = (image.select(['Blue'],['algal_mask']).updateMask(clouds.eq(0)).updateMask(algal_mask.eq(1)).updateMask(hs.eq(1)))\n",
    "    hs0 = hs.eq(0).rename('shadow').selfMask().updateMask(clouds.eq(0)).updateMask(algal_mask.eq(1))\n",
    "    cover = image.metadata('CLOUD_COVER')\n",
    "    z = image.metadata('SUN_ELEVATION')\n",
    "    a = image.metadata('SUN_AZIMUTH')\n",
    "    date_number = ee.Number(image.get(\"system:time_start\"))\n",
    "    date = image.constant(date_number).rename(\"date\")\n",
    "    image_quality_number = ee.Number(image.get(\"IMAGE_QUALITY\"))\n",
    "    image_quality = image.constant(image_quality_number).rename(\"IMAGE_QUALITY\")\n",
    "    pixOut = (image.addBands(algal_mask)\n",
    "              .addBands(image.select(['Aerosol'],['sd_Aerosol']))\n",
    "              .addBands(image.select(['Blue'],['sd_Blue']))\n",
    "              .addBands(image.select(['Green'],['sd_Green']))\n",
    "              .addBands(image.select(['Red'],['sd_Red']))\n",
    "              .addBands(image.select(['Nir'],['sd_Nir']))\n",
    "              .addBands(image.select(['Swir1'],['sd_Swir1']))\n",
    "              .addBands(image.select(['Swir2'],['sd_Swir2']))\n",
    "              .updateMask(algal_mask.eq(1))\n",
    "              .updateMask(clouds.eq(0))\n",
    "              .updateMask(hs.eq(1))\n",
    "              .addBands(negative_Aerosol)\n",
    "              .addBands(negative_Red)\n",
    "              .addBands(negative_Blue)\n",
    "              .addBands(negative_Green)\n",
    "              .addBands(negative_Nir)\n",
    "              .addBands(negative_Swir1)\n",
    "              .addBands(negative_Swir2)\n",
    "              .addBands(dummy)\n",
    "              .addBands(hs0)\n",
    "              .addBands(hs)\n",
    "              .addBands(clouds)\n",
    "              .addBands(cover)\n",
    "              .addBands(z)\n",
    "              .addBands(a)\n",
    "              .addBands(date)\n",
    "              .addBands(image_quality))\n",
    "\n",
    "    combinedReducer = (ee.Reducer.median().unweighted()\n",
    "    .forEachBand(pixOut.select(['Aerosol', 'Blue', 'Green', 'Red', 'Nir', 'Swir1', 'Swir2','Surface_temp_kelvin', 'pixel_qa', 'algal_mask']))\n",
    "    .combine(ee.Reducer.stdDev().unweighted().forEachBand(pixOut.select(['sd_Aerosol','sd_Blue', 'sd_Green', 'sd_Red','sd_Nir', 'sd_Swir1','sd_Swir2'])), '', False)\n",
    "    .combine(ee.Reducer.count().unweighted().forEachBand(pixOut.select(['negative_Aerosol', 'negative_Blue', 'negative_Green', 'negative_Red', 'negative_Nir', 'negative_Swir1', 'negative_Swir2','algal_mask','shadow' ])), 'pCount_', False)\n",
    "    .combine(ee.Reducer.mean().unweighted().forEachBand(pixOut.select(['hillShadow', 'clouds'])), '', False)\n",
    "    .combine(ee.Reducer.firstNonNull().unweighted().forEachBand(pixOut.select(['CLOUD_COVER', 'SUN_ELEVATION', 'SUN_AZIMUTH', 'date', 'IMAGE_QUALITY']))))\n",
    "         \n",
    "\n",
    "    ## Collect median reflectance and occurance values\n",
    "    lsout = pixOut.reduceRegions(lakes, combinedReducer, 30)\n",
    "    \n",
    "    out = lsout.map(removeGeo)\n",
    "    \n",
    "    return out"
   ]
  },
  {
   "cell_type": "markdown",
   "metadata": {},
   "source": [
    "## Add in feature collection data of landsat tiles for nested loop"
   ]
  },
  {
   "cell_type": "code",
   "execution_count": 10,
   "metadata": {},
   "outputs": [
    {
     "data": {
      "text/html": [
       "\n",
       "            <style>\n",
       "                .geemap-dark {\n",
       "                    --jp-widgets-color: white;\n",
       "                    --jp-widgets-label-color: white;\n",
       "                    --jp-ui-font-color1: white;\n",
       "                    --jp-layout-color2: #454545;\n",
       "                    background-color: #383838;\n",
       "                }\n",
       "                    \n",
       "                .geemap-dark .jupyter-button {\n",
       "                    --jp-layout-color3: #383838;\n",
       "                }\n",
       "                \n",
       "                .geemap-colab {\n",
       "                    background-color: var(--colab-primary-surface-color, white);\n",
       "                }\n",
       "                    \n",
       "                .geemap-colab .jupyter-button {\n",
       "                    --jp-layout-color3: var(--colab-primary-surface-color, white);\n",
       "                }\n",
       "            </style>\n",
       "            "
      ],
      "text/plain": [
       "<IPython.core.display.HTML object>"
      ]
     },
     "metadata": {},
     "output_type": "display_data"
    }
   ],
   "source": [
    "wrs = ee.FeatureCollection(\"projects/ee-samsillen0/assets/wrs2_asc_desc\")\\\n",
    "    .filterMetadata('MODE', 'equals', 'D')\n",
    "\n",
    "pr_shp = ee.FeatureCollection(\"projects/ee-samsillen0/assets/allwqplagostiles\")"
   ]
  },
  {
   "cell_type": "markdown",
   "metadata": {},
   "source": [
    "## Function for limiting number of tasks in Task Manager"
   ]
  },
  {
   "cell_type": "code",
   "execution_count": 11,
   "metadata": {},
   "outputs": [
    {
     "data": {
      "text/html": [
       "\n",
       "            <style>\n",
       "                .geemap-dark {\n",
       "                    --jp-widgets-color: white;\n",
       "                    --jp-widgets-label-color: white;\n",
       "                    --jp-ui-font-color1: white;\n",
       "                    --jp-layout-color2: #454545;\n",
       "                    background-color: #383838;\n",
       "                }\n",
       "                    \n",
       "                .geemap-dark .jupyter-button {\n",
       "                    --jp-layout-color3: #383838;\n",
       "                }\n",
       "                \n",
       "                .geemap-colab {\n",
       "                    background-color: var(--colab-primary-surface-color, white);\n",
       "                }\n",
       "                    \n",
       "                .geemap-colab .jupyter-button {\n",
       "                    --jp-layout-color3: var(--colab-primary-surface-color, white);\n",
       "                }\n",
       "            </style>\n",
       "            "
      ],
      "text/plain": [
       "<IPython.core.display.HTML object>"
      ]
     },
     "metadata": {},
     "output_type": "display_data"
    }
   ],
   "source": [
    "def maximum_no_of_tasks(MaxNActive, waitingPeriod):\n",
    "  ##maintain a maximum number of active tasks\n",
    "  time.sleep(10)\n",
    "  ## initialize submitting jobs\n",
    "  ts = list(ee.batch.Task.list())\n",
    "\n",
    "  NActive = 0\n",
    "  for task in ts:\n",
    "       if ('RUNNING' in str(task) or 'READY' in str(task)):\n",
    "           NActive += 1\n",
    "  ## wait if the number of current active tasks reach the maximum number\n",
    "  ## defined in MaxNActive\n",
    "  while (NActive >= MaxNActive):\n",
    "      time.sleep(waitingPeriod) # if reach or over maximum no. of active tasks, wait for 2min and check again\n",
    "      ts = list(ee.batch.Task.list())\n",
    "      NActive = 0\n",
    "      for task in ts:\n",
    "        if ('RUNNING' in str(task) or 'READY' in str(task)):\n",
    "          NActive += 1\n",
    "  return()"
   ]
  },
  {
   "cell_type": "markdown",
   "metadata": {},
   "source": [
    "## Merging landsat collections and scaling band values"
   ]
  },
  {
   "cell_type": "code",
   "execution_count": 12,
   "metadata": {},
   "outputs": [
    {
     "data": {
      "text/html": [
       "\n",
       "            <style>\n",
       "                .geemap-dark {\n",
       "                    --jp-widgets-color: white;\n",
       "                    --jp-widgets-label-color: white;\n",
       "                    --jp-ui-font-color1: white;\n",
       "                    --jp-layout-color2: #454545;\n",
       "                    background-color: #383838;\n",
       "                }\n",
       "                    \n",
       "                .geemap-dark .jupyter-button {\n",
       "                    --jp-layout-color3: #383838;\n",
       "                }\n",
       "                \n",
       "                .geemap-colab {\n",
       "                    background-color: var(--colab-primary-surface-color, white);\n",
       "                }\n",
       "                    \n",
       "                .geemap-colab .jupyter-button {\n",
       "                    --jp-layout-color3: var(--colab-primary-surface-color, white);\n",
       "                }\n",
       "            </style>\n",
       "            "
      ],
      "text/plain": [
       "<IPython.core.display.HTML object>"
      ]
     },
     "metadata": {},
     "output_type": "display_data"
    }
   ],
   "source": [
    "# LS Collection 2 has a different scaling parameter that needs to be applied to the optical bands. Also, thermal bands need scale factors and these are different for LS8 and LS5/LS7\n",
    "\n",
    "def scale_ls5_ls7(image):\n",
    "\n",
    "  opticalBands = image.select('SR_B.').multiply(0.0000275).add(-0.2)\n",
    "  thermalBand = image.select('ST_B6').multiply(0.00341802).add(149.0)\n",
    "\n",
    "  return image.addBands(opticalBands, overwrite = True)\\\n",
    "  .addBands(thermalBand,  overwrite = True)\n",
    "\n",
    "def scale_ls8_ls9(image):\n",
    "  opticalBands = image.select('SR_B.').multiply(0.0000275).add(-0.2)\n",
    "  thermalBand = image.select('ST_B10').multiply(0.00341802).add(149.0)\n",
    "\n",
    "  return image.addBands(opticalBands, overwrite = True)\\\n",
    "  .addBands(thermalBand,  overwrite = True)\n",
    "\n",
    "# The image quality band for LS 08 and LS 09 has a different name than for LS 05 and LS 07.  \n",
    "def rename_image_quality(i):\n",
    "    return i.set({\"IMAGE_QUALITY\": i.get(\"IMAGE_QUALITY_OLI\")})\n",
    "\n",
    "# Aerosol doesn't exist for LS 5 and LS 7 so we will have to add a dummy band with fill value of -99 for those collections\n",
    "dummyAerosol = ee.Image(-99).rename('Null_CS')\n",
    "\n",
    "def add_dummy_Aerosol(i):\n",
    "    return i.addBands(dummyAerosol)\n",
    "\n",
    "l9 = ee.ImageCollection('LANDSAT/LC09/C02/T1_L2')\\\n",
    "  .map(rename_image_quality)\n",
    "l8 = ee.ImageCollection(\"LANDSAT/LC08/C02/T1_L2\")\\\n",
    "  .map(rename_image_quality)\n",
    "l7 = ee.ImageCollection('LANDSAT/LE07/C02/T1_L2')\\\n",
    "  .map(add_dummy_Aerosol)\n",
    "l5 = ee.ImageCollection('LANDSAT/LT05/C02/T1_L2')\\\n",
    "  .map(add_dummy_Aerosol)\n",
    "\n",
    "ls9_bands = ['SR_B1', 'SR_B2','SR_B3', 'SR_B4', 'SR_B5','SR_B6','SR_B7', 'ST_B10', 'QA_PIXEL']\n",
    "ls8_bands = ['SR_B1','SR_B2','SR_B3', 'SR_B4', 'SR_B5','SR_B6','SR_B7', 'ST_B10','QA_PIXEL']\n",
    "ls7_bands = ['Null_CS','SR_B1', 'SR_B2', 'SR_B3', 'SR_B4', 'SR_B5', 'SR_B7', 'ST_B6', 'QA_PIXEL']\n",
    "ls5_bands = ['Null_CS','SR_B1','SR_B2','SR_B3', 'SR_B4', 'SR_B5','SR_B7', 'ST_B6','QA_PIXEL']\n",
    "bands = ['Aerosol','Blue', 'Green', 'Red', 'Nir', 'Swir1', 'Swir2', 'Surface_temp_kelvin', 'pixel_qa']\n",
    "\n",
    "ls9 = l9.map(scale_ls8_ls9).select(ls9_bands, bands)\n",
    "ls8 = l8.map(scale_ls8_ls9).select(ls8_bands, bands)\n",
    "ls7 = l7.map(scale_ls5_ls7).select(ls7_bands, bands)\n",
    "ls5 = l5.map(scale_ls5_ls7).select(ls5_bands, bands)\n",
    "\n",
    "# Filtering for cloud cover less than 50 reduces processing time (don't know if this should be higher or lower)\n",
    "ls_collection2 = ls9.merge(ls8).merge(ls7).merge(ls5).filter(ee.Filter.lt('CLOUD_COVER', 50)).filterDate('1984-03-16', '2022-11-01')\n"
   ]
  },
  {
   "cell_type": "markdown",
   "metadata": {},
   "source": [
    "## Preparing to loop over site identifiers"
   ]
  },
  {
   "cell_type": "code",
   "execution_count": null,
   "metadata": {},
   "outputs": [],
   "source": [
    "lakesort = pr_shp.sort('PR')\n",
    "\n",
    "lakeID = lakesort.aggregate_array('PR').getInfo() \n",
    "\n",
    "# Make a folder in your google drive manually to output data , then we can use this loop in case we have to start over and we won't end up starting from 0\n",
    "dlDir = \"G:\\My Drive\\LC02_matchup_pull_algalMask\"\n",
    "filesDown = os.listdir(dlDir)  # -->\n",
    "filesDown = [str(i.replace(\".csv\", \"\")) for i in filesDown]\n",
    "\n",
    "lakeID  = [i for i in lakeID if i not in filesDown]\n",
    "\n",
    "print(len(lakeID))\n",
    "\n",
    "SiteIDS = ee.FeatureCollection(\"projects/ee-samsillen0/assets/all_wqp_lagos_sites\")\n",
    "\n",
    "for x in range(0,len(lakeID)):\n",
    "        \n",
    "    print(lakeID[x])\n",
    "    \n",
    "    tile = wrs.filterMetadata('PR', 'equals', lakeID[x])\n",
    "        \n",
    "    lakes = SiteIDS.filterBounds(tile.geometry())\\\n",
    "        .map(pointBuff)\n",
    "    \n",
    "    stack = ls_collection2.filterBounds(tile.geometry().centroid())\n",
    "    \n",
    "    out = stack.map(pull).flatten() \n",
    "    out = out.filter(ee.Filter.notNull(['Blue']))\n",
    "\n",
    "    dataOut = ee.batch.Export.table.toDrive(collection = out,\\\n",
    "                                            description = str(lakeID[x]),\\\n",
    "                                            folder = 'LC02_matchup_pull_algalMask',\\\n",
    "                                            fileFormat = 'csv',\\\n",
    "                                            selectors  = ['Aerosol', 'sd_Aerosol', 'pCount_negative_Aerosol', 'Blue','sd_Blue','pCount_negative_Blue','Green','sd_Green', 'pCount_negative_Green', 'Red','sd_Red', 'pCount_negative_Red','Nir', 'sd_Nir','pCount_negative_Nir','Swir1','sd_Swir1','pCount_negative_Swir1','Swir2','sd_Swir2','pCount_negative_Swir2','Surface_temp_kelvin','pixel_qa','clouds','algal_mask','hillShadow','pCount_algal_mask','pCount_shadow','system:index', 'IMAGE_QUALITY','date','CLOUD_COVER','SUN_ELEVATION','SUN_AZIMUTH','SiteID'])    \n",
    "  \n",
    "    maximum_no_of_tasks(15, 60)\n",
    "  # Send next task.\n",
    "    dataOut.start()\n",
    "    print('done')\n",
    "\n",
    "# Make sure all Earth engine tasks are completed prior to moving on.  \n",
    "maximum_no_of_tasks(1,300)\n",
    "print('done')"
   ]
  }
 ],
 "metadata": {
  "kernelspec": {
   "display_name": "Python 3.10.8 64-bit (microsoft store)",
   "language": "python",
   "name": "python3"
  },
  "language_info": {
   "codemirror_mode": {
    "name": "ipython",
    "version": 3
   },
   "file_extension": ".py",
   "mimetype": "text/x-python",
   "name": "python",
   "nbconvert_exporter": "python",
   "pygments_lexer": "ipython3",
   "version": "3.11.9"
  },
  "orig_nbformat": 4,
  "vscode": {
   "interpreter": {
    "hash": "70710a5a043ffaf151e649c4cf787295e02aeb276ecf4c128dcaa61f377d9020"
   }
  }
 },
 "nbformat": 4,
 "nbformat_minor": 2
}
